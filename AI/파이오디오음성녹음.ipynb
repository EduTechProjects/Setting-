{
 "cells": [
  {
   "cell_type": "code",
   "execution_count": 3,
   "metadata": {},
   "outputs": [],
   "source": [
    "import tensorflow"
   ]
  },
  {
   "cell_type": "code",
   "execution_count": 3,
   "metadata": {},
   "outputs": [
    {
     "name": "stdout",
     "output_type": "stream",
     "text": [
      "Collecting pyaudio\n",
      "  Downloading PyAudio-0.2.13-cp39-cp39-win_amd64.whl (164 kB)\n",
      "     ---------------------------------------- 0.0/164.1 kB ? eta -:--:--\n",
      "     -------------------------------------- 164.1/164.1 kB 5.0 MB/s eta 0:00:00\n",
      "Installing collected packages: pyaudio\n",
      "Successfully installed pyaudio-0.2.13\n",
      "Note: you may need to restart the kernel to use updated packages.\n"
     ]
    }
   ],
   "source": [
    "pip install pyaudio"
   ]
  },
  {
   "cell_type": "code",
   "execution_count": 4,
   "metadata": {},
   "outputs": [
    {
     "name": "stdout",
     "output_type": "stream",
     "text": [
      "DEVICE: Microsoft Sound Mapper - Input, INDEX: 0, RATE: 44100 \n",
      "DEVICE: 마이크 배열(Realtek(R) Audio), INDEX: 1, RATE: 44100 \n",
      "DEVICE: 머리에 거는 수화기(Galaxy Buds Live (07, INDEX: 2, RATE: 44100 \n",
      "DEVICE: Microsoft Sound Mapper - Output, INDEX: 3, RATE: 44100 \n",
      "DEVICE: 헤드폰(Galaxy Buds Live (078F) Ste, INDEX: 4, RATE: 44100 \n",
      "DEVICE: 스피커(Realtek(R) Audio), INDEX: 5, RATE: 44100 \n",
      "DEVICE: 머리에 거는 수화기(Galaxy Buds Live (07, INDEX: 6, RATE: 44100 \n",
      "DEVICE: 주 사운드 캡처 드라이버, INDEX: 7, RATE: 44100 \n",
      "DEVICE: 마이크 배열(Realtek(R) Audio), INDEX: 8, RATE: 44100 \n",
      "DEVICE: 머리에 거는 수화기(Galaxy Buds Live (078F) Hands-Free AG Audio), INDEX: 9, RATE: 44100 \n",
      "DEVICE: 주 사운드 드라이버, INDEX: 10, RATE: 44100 \n",
      "DEVICE: 헤드폰(Galaxy Buds Live (078F) Stereo), INDEX: 11, RATE: 44100 \n",
      "DEVICE: 스피커(Realtek(R) Audio), INDEX: 12, RATE: 44100 \n",
      "DEVICE: 머리에 거는 수화기(Galaxy Buds Live (078F) Hands-Free AG Audio), INDEX: 13, RATE: 44100 \n",
      "DEVICE: 헤드폰(Galaxy Buds Live (078F) Stereo), INDEX: 14, RATE: 44100 \n",
      "DEVICE: 스피커(Realtek(R) Audio), INDEX: 15, RATE: 48000 \n",
      "DEVICE: 머리에 거는 수화기(Galaxy Buds Live (078F) Hands-Free AG Audio), INDEX: 16, RATE: 16000 \n",
      "DEVICE: 머리에 거는 수화기(Galaxy Buds Live (078F) Hands-Free AG Audio), INDEX: 17, RATE: 16000 \n",
      "DEVICE: 마이크 배열(Realtek(R) Audio), INDEX: 18, RATE: 48000 \n",
      "DEVICE: Headphones 1 (Realtek HD Audio 2nd output with SST), INDEX: 19, RATE: 44100 \n",
      "DEVICE: Headphones 2 (Realtek HD Audio 2nd output with SST), INDEX: 20, RATE: 44100 \n",
      "DEVICE: PC 스피커 (Realtek HD Audio 2nd output with SST), INDEX: 21, RATE: 48000 \n",
      "DEVICE: Speakers 1 (Realtek HD Audio output with SST), INDEX: 22, RATE: 44100 \n",
      "DEVICE: Speakers 2 (Realtek HD Audio output with SST), INDEX: 23, RATE: 44100 \n",
      "DEVICE: PC 스피커 (Realtek HD Audio output with SST), INDEX: 24, RATE: 48000 \n",
      "DEVICE: 스테레오 믹스 (Realtek HD Audio Stereo input), INDEX: 25, RATE: 48000 \n",
      "DEVICE: 마이크 배열 (Realtek HD Audio Mic input), INDEX: 26, RATE: 44100 \n",
      "DEVICE: 헤드폰 (), INDEX: 27, RATE: 44100 \n",
      "DEVICE: 헤드폰 (), INDEX: 28, RATE: 44100 \n",
      "DEVICE: 머리에 거는 수화기 (@System32\\drivers\\bthhfenum.sys,#2;%1 Hands-Free AG Audio%0\n",
      ";(Galaxy Buds Live (078F))), INDEX: 29, RATE: 16000 \n",
      "DEVICE: 머리에 거는 수화기 (@System32\\drivers\\bthhfenum.sys,#2;%1 Hands-Free AG Audio%0\n",
      ";(Galaxy Buds Live (078F))), INDEX: 30, RATE: 16000 \n",
      "DEVICE: 머리에 거는 수화기 (@System32\\drivers\\bthhfenum.sys,#2;%1 Hands-Free AG Audio%0\n",
      ";(Bose QC45)), INDEX: 31, RATE: 8000 \n",
      "DEVICE: 머리에 거는 수화기 (@System32\\drivers\\bthhfenum.sys,#2;%1 Hands-Free AG Audio%0\n",
      ";(Bose QC45)), INDEX: 32, RATE: 8000 \n",
      "DEVICE: 헤드폰 (), INDEX: 33, RATE: 44100 \n",
      "DEVICE: 머리에 거는 수화기 (@System32\\drivers\\bthhfenum.sys,#2;%1 Hands-Free AG Audio%0\n",
      ";(WH-CH710N)), INDEX: 34, RATE: 8000 \n",
      "DEVICE: 머리에 거는 수화기 (@System32\\drivers\\bthhfenum.sys,#2;%1 Hands-Free AG Audio%0\n",
      ";(WH-CH710N)), INDEX: 35, RATE: 8000 \n",
      "DEVICE: 헤드폰 (), INDEX: 36, RATE: 44100 \n",
      "DEVICE: 머리에 거는 수화기 (@System32\\drivers\\bthhfenum.sys,#2;%1 Hands-Free AG Audio%0\n",
      ";(emoi Mushroom Lamp Speaker)), INDEX: 37, RATE: 8000 \n",
      "DEVICE: 머리에 거는 수화기 (@System32\\drivers\\bthhfenum.sys,#2;%1 Hands-Free AG Audio%0\n",
      ";(emoi Mushroom Lamp Speaker)), INDEX: 38, RATE: 8000 \n"
     ]
    }
   ],
   "source": [
    "# 마이크 및 스피커 잘 작동되나?\n",
    "import pyaudio\n",
    "\n",
    "audio = pyaudio.PyAudio()\n",
    "\n",
    "for index in range(audio.get_device_count()):\n",
    "    desc = audio.get_device_info_by_index(index)\n",
    "    print(\"DEVICE: {device}, INDEX: {index}, RATE: {rate} \".format(\n",
    "        device=desc[\"name\"], index=index, rate=int(desc[\"defaultSampleRate\"])))\n",
    "    \n",
    "# 버즈 사용할거면 index 2번, 그냥 마이크 쓸거면 1번 rate는 기본 44100으로 설정되어있음"
   ]
  },
  {
   "cell_type": "code",
   "execution_count": 10,
   "metadata": {},
   "outputs": [
    {
     "name": "stdout",
     "output_type": "stream",
     "text": [
      "recording...\n",
      "finished recording\n"
     ]
    }
   ],
   "source": [
    "import pyaudio\n",
    "import wave\n",
    "import sys\n",
    " \n",
    "\n",
    "FORMAT = pyaudio.paInt16 #16비트로 저장\n",
    "CHANNELS = 1\n",
    "RATE = 44100 #앞서 마이크 확인했을 때의 숫자 44100\n",
    "CHUNK = 1024 #CHUNK는 음성데이터를 불러올 때 한번에 몇개의 정수를 불러올 지를 뜻함\n",
    "RECORD_SECONDS = 10 # 2분\n",
    "WAVE_OUTPUT_FILENAME = \"file1.wav\"\n",
    "\n",
    " \n",
    "\n",
    "audio = pyaudio.PyAudio()\n",
    "# 녹음시작!\n",
    "stream = audio.open(format=pyaudio.paInt16, \n",
    "                channels=CHANNELS, \n",
    "                rate=RATE, \n",
    "                input=True, \n",
    "                input_device_index=1,\n",
    "                frames_per_buffer=CHUNK)\n",
    "#(format = 비트기 깊이, 16비트로 기본 설정, rate = sr값, input=음성을 입력할건지 아닌지, 여기선 맞으니까 True,input_device_index= 노트북에 따라 마이크 장치 번호 넣어줌 없애도 됨)\n",
    "\n",
    "print(\"recording...\")\n",
    "\n",
    "frames = []\n",
    "\n",
    " \n",
    "\n",
    "for i in range(0, int(RATE / CHUNK * RECORD_SECONDS)):\n",
    "    data = stream.read(CHUNK)\n",
    "    frames.append(data)\n",
    "print(\"finished recording\")\n",
    "\n",
    " \n",
    "\n",
    " \n",
    "\n",
    "# 녹음 그만두기+\n",
    "\n",
    "stream.stop_stream()\n",
    "stream.close()\n",
    "audio.terminate()\n",
    "\n",
    "waveFile = wave.open(WAVE_OUTPUT_FILENAME, 'wb')\n",
    "waveFile.setnchannels(CHANNELS)\n",
    "waveFile.setsampwidth(audio.get_sample_size(FORMAT))\n",
    "waveFile.setframerate(RATE)\n",
    "waveFile.writeframes(b''.join(frames))\n",
    "waveFile.close()"
   ]
  },
  {
   "cell_type": "code",
   "execution_count": null,
   "metadata": {},
   "outputs": [],
   "source": []
  }
 ],
 "metadata": {
  "kernelspec": {
   "display_name": "base",
   "language": "python",
   "name": "python3"
  },
  "language_info": {
   "codemirror_mode": {
    "name": "ipython",
    "version": 3
   },
   "file_extension": ".py",
   "mimetype": "text/x-python",
   "name": "python",
   "nbconvert_exporter": "python",
   "pygments_lexer": "ipython3",
   "version": "3.9.16"
  },
  "orig_nbformat": 4
 },
 "nbformat": 4,
 "nbformat_minor": 2
}
