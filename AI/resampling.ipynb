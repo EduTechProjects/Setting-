{
 "cells": [
  {
   "cell_type": "code",
   "execution_count": null,
   "metadata": {},
   "outputs": [],
   "source": [
    "import librosa\n",
    "\n",
    "def audioresample(name) :\n",
    "  y, sr = librosa.load(f'{name}.wav', sr=44100) # 44.1 kHz로 읽기\n",
    "  y_resampled = librosa.resample(y, sr, 16000) # 16kHz로 resampling\n",
    "  \n",
    "  return y_resampled, y_resampled.shape"
   ]
  },
  {
   "cell_type": "code",
   "execution_count": 2,
   "metadata": {},
   "outputs": [
    {
     "name": "stdout",
     "output_type": "stream",
     "text": [
      "Collecting librosa\n",
      "  Downloading librosa-0.10.0.post2-py3-none-any.whl (253 kB)\n",
      "     ---------------------------------------- 0.0/253.0 kB ? eta -:--:--\n",
      "     -------------------------------------- 253.0/253.0 kB 7.6 MB/s eta 0:00:00\n",
      "Requirement already satisfied: numpy!=1.22.0,!=1.22.1,!=1.22.2,>=1.20.3 in c:\\users\\hop09\\desktop\\anaconda\\lib\\site-packages (from librosa) (1.24.3)\n",
      "Collecting lazy-loader>=0.1\n",
      "  Downloading lazy_loader-0.2-py3-none-any.whl (8.6 kB)\n",
      "Collecting soundfile>=0.12.1\n",
      "  Downloading soundfile-0.12.1-py2.py3-none-win_amd64.whl (1.0 MB)\n",
      "     ---------------------------------------- 0.0/1.0 MB ? eta -:--:--\n",
      "     ---------------------------------------  1.0/1.0 MB 32.0 MB/s eta 0:00:01\n",
      "     ---------------------------------------- 1.0/1.0 MB 16.1 MB/s eta 0:00:00\n",
      "Requirement already satisfied: decorator>=4.3.0 in c:\\users\\hop09\\desktop\\anaconda\\lib\\site-packages (from librosa) (5.1.1)\n",
      "Requirement already satisfied: numba>=0.51.0 in c:\\users\\hop09\\desktop\\anaconda\\lib\\site-packages (from librosa) (0.57.0)\n",
      "Requirement already satisfied: joblib>=0.14 in c:\\users\\hop09\\desktop\\anaconda\\lib\\site-packages (from librosa) (1.1.1)\n",
      "Requirement already satisfied: scipy>=1.2.0 in c:\\users\\hop09\\desktop\\anaconda\\lib\\site-packages (from librosa) (1.10.1)\n",
      "Requirement already satisfied: scikit-learn>=0.20.0 in c:\\users\\hop09\\desktop\\anaconda\\lib\\site-packages (from librosa) (1.2.2)\n",
      "Requirement already satisfied: msgpack>=1.0 in c:\\users\\hop09\\desktop\\anaconda\\lib\\site-packages (from librosa) (1.0.3)\n",
      "Collecting soxr>=0.3.2\n",
      "  Downloading soxr-0.3.5-cp39-cp39-win_amd64.whl (184 kB)\n",
      "     ---------------------------------------- 0.0/184.2 kB ? eta -:--:--\n",
      "     ------------------------------------- 184.2/184.2 kB 11.6 MB/s eta 0:00:00\n",
      "Requirement already satisfied: typing-extensions>=4.1.1 in c:\\users\\hop09\\desktop\\anaconda\\lib\\site-packages (from librosa) (4.5.0)\n",
      "Requirement already satisfied: pooch<1.7,>=1.0 in c:\\users\\hop09\\desktop\\anaconda\\lib\\site-packages (from librosa) (1.4.0)\n",
      "Collecting audioread>=2.1.9\n",
      "  Downloading audioread-3.0.0.tar.gz (377 kB)\n",
      "     ---------------------------------------- 0.0/377.0 kB ? eta -:--:--\n",
      "     ------------------------------------- 377.0/377.0 kB 11.8 MB/s eta 0:00:00\n",
      "  Preparing metadata (setup.py): started\n",
      "  Preparing metadata (setup.py): finished with status 'done'\n",
      "Requirement already satisfied: llvmlite<0.41,>=0.40.0dev0 in c:\\users\\hop09\\desktop\\anaconda\\lib\\site-packages (from numba>=0.51.0->librosa) (0.40.0)\n",
      "Requirement already satisfied: appdirs in c:\\users\\hop09\\desktop\\anaconda\\lib\\site-packages (from pooch<1.7,>=1.0->librosa) (1.4.4)\n",
      "Requirement already satisfied: requests in c:\\users\\hop09\\desktop\\anaconda\\lib\\site-packages (from pooch<1.7,>=1.0->librosa) (2.29.0)\n",
      "Requirement already satisfied: packaging in c:\\users\\hop09\\desktop\\anaconda\\lib\\site-packages (from pooch<1.7,>=1.0->librosa) (23.0)\n",
      "Requirement already satisfied: threadpoolctl>=2.0.0 in c:\\users\\hop09\\desktop\\anaconda\\lib\\site-packages (from scikit-learn>=0.20.0->librosa) (2.2.0)\n",
      "Requirement already satisfied: cffi>=1.0 in c:\\users\\hop09\\desktop\\anaconda\\lib\\site-packages (from soundfile>=0.12.1->librosa) (1.15.1)\n",
      "Requirement already satisfied: pycparser in c:\\users\\hop09\\desktop\\anaconda\\lib\\site-packages (from cffi>=1.0->soundfile>=0.12.1->librosa) (2.21)\n",
      "Requirement already satisfied: idna<4,>=2.5 in c:\\users\\hop09\\desktop\\anaconda\\lib\\site-packages (from requests->pooch<1.7,>=1.0->librosa) (3.4)\n",
      "Requirement already satisfied: urllib3<1.27,>=1.21.1 in c:\\users\\hop09\\desktop\\anaconda\\lib\\site-packages (from requests->pooch<1.7,>=1.0->librosa) (1.26.15)\n",
      "Requirement already satisfied: certifi>=2017.4.17 in c:\\users\\hop09\\desktop\\anaconda\\lib\\site-packages (from requests->pooch<1.7,>=1.0->librosa) (2023.5.7)\n",
      "Requirement already satisfied: charset-normalizer<4,>=2 in c:\\users\\hop09\\desktop\\anaconda\\lib\\site-packages (from requests->pooch<1.7,>=1.0->librosa) (2.0.4)\n",
      "Building wheels for collected packages: audioread\n",
      "  Building wheel for audioread (setup.py): started\n",
      "  Building wheel for audioread (setup.py): finished with status 'done'\n",
      "  Created wheel for audioread: filename=audioread-3.0.0-py3-none-any.whl size=23736 sha256=971310203027433db54505a85ae47552bd1b531fb1330c19c0795d4e39114049\n",
      "  Stored in directory: c:\\users\\hop09\\appdata\\local\\pip\\cache\\wheels\\e4\\76\\a4\\cfb55573167a1f5bde7d7a348e95e509c64b2c3e8f921932c3\n",
      "Successfully built audioread\n",
      "Installing collected packages: soxr, lazy-loader, audioread, soundfile, librosa\n",
      "Successfully installed audioread-3.0.0 lazy-loader-0.2 librosa-0.10.0.post2 soundfile-0.12.1 soxr-0.3.5\n",
      "Note: you may need to restart the kernel to use updated packages.\n"
     ]
    }
   ],
   "source": [
    "pip install librosa --user"
   ]
  },
  {
   "cell_type": "code",
   "execution_count": 3,
   "metadata": {},
   "outputs": [
    {
     "ename": "TypeError",
     "evalue": "resample() takes 1 positional argument but 3 were given",
     "output_type": "error",
     "traceback": [
      "\u001b[1;31m---------------------------------------------------------------------------\u001b[0m",
      "\u001b[1;31mTypeError\u001b[0m                                 Traceback (most recent call last)",
      "Cell \u001b[1;32mIn[3], line 4\u001b[0m\n\u001b[0;32m      1\u001b[0m \u001b[39mimport\u001b[39;00m \u001b[39mlibrosa\u001b[39;00m\n\u001b[0;32m      3\u001b[0m y, sr \u001b[39m=\u001b[39m librosa\u001b[39m.\u001b[39mload(\u001b[39m'\u001b[39m\u001b[39maudiofile.wav\u001b[39m\u001b[39m'\u001b[39m) \u001b[39m# 44.1 kHz로 읽기\u001b[39;00m\n\u001b[1;32m----> 4\u001b[0m y_resampled \u001b[39m=\u001b[39m librosa\u001b[39m.\u001b[39;49mresample(y, sr, \u001b[39m22050\u001b[39;49m)\n",
      "\u001b[1;31mTypeError\u001b[0m: resample() takes 1 positional argument but 3 were given"
     ]
    }
   ],
   "source": [
    "import librosa\n",
    "\n",
    "def downsampling() :\n",
    "  \n",
    "  y, sr = librosa.load('audiofile.wav') # 44.1 kHz로 읽기\n",
    "  y_resampled = librosa.resample(y, sr, 22050) # 22.05 kHz로 resampling\n",
    "  return y_resampled"
   ]
  }
 ],
 "metadata": {
  "kernelspec": {
   "display_name": "base",
   "language": "python",
   "name": "python3"
  },
  "language_info": {
   "codemirror_mode": {
    "name": "ipython",
    "version": 3
   },
   "file_extension": ".py",
   "mimetype": "text/x-python",
   "name": "python",
   "nbconvert_exporter": "python",
   "pygments_lexer": "ipython3",
   "version": "3.9.16"
  },
  "orig_nbformat": 4
 },
 "nbformat": 4,
 "nbformat_minor": 2
}
